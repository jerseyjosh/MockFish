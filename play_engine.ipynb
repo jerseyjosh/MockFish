{
 "cells": [
  {
   "cell_type": "code",
   "execution_count": 1,
   "metadata": {},
   "outputs": [
    {
     "name": "stderr",
     "output_type": "stream",
     "text": [
      "/Users/josh/Documents/QMUL/DISSERTATION/MockFish/venv/lib/python3.9/site-packages/tqdm/auto.py:22: TqdmWarning: IProgress not found. Please update jupyter and ipywidgets. See https://ipywidgets.readthedocs.io/en/stable/user_install.html\n",
      "  from .autonotebook import tqdm as notebook_tqdm\n"
     ]
    }
   ],
   "source": [
    "import numpy as np\n",
    "import pandas as pd\n",
    "from functions import get_model_path\n",
    "import chess\n",
    "import chess.svg\n",
    "import re\n",
    "from config import *\n",
    "from engine import Engine"
   ]
  },
  {
   "cell_type": "code",
   "execution_count": 2,
   "metadata": {},
   "outputs": [
    {
     "name": "stdout",
     "output_type": "stream",
     "text": [
      "['./models/Mockfish_selector_4e_7087b.pth', './models/Mockfish_p_3e_7665b.pth', './models/Mockfish_b_4e_2066b.pth', './models/Mockfish_n_4e_5736b_puzzles.pth', './models/Mockfish_r_4e_5476b.pth', './models/Mockfish_q_4e_4700b.pth', './models/Mockfish_k_4e_2432b_puzzles.pth', './models/Mockfish_selector_5e_13352b_puzzles.pth', './models/Mockfish_p_4e_1830b_puzzles.pth', './models/Mockfish_b_4e_1285b_puzzles.pth', './models/Mockfish_n_4e_5736b_puzzles.pth', './models/Mockfish_r_3e_16890b_puzzles.pth', './models/Mockfish_q_3e_14955b_puzzles.pth', './models/Mockfish_k_4e_2432b_puzzles.pth']\n"
     ]
    }
   ],
   "source": [
    "NETWORK_PATHS = [get_model_path(MODELS_DIR, p, puzzle=puzzle) for puzzle in [False, True] for p in ['selector', 'p', 'b', 'n', 'r', 'q', 'k']]\n",
    "print(NETWORK_PATHS)"
   ]
  },
  {
   "cell_type": "code",
   "execution_count": 3,
   "metadata": {},
   "outputs": [],
   "source": [
    "mockfish = Engine(*NETWORK_PATHS)"
   ]
  },
  {
   "cell_type": "code",
   "execution_count": null,
   "metadata": {},
   "outputs": [],
   "source": []
  }
 ],
 "metadata": {
  "kernelspec": {
   "display_name": "Python 3.9.12 ('venv': venv)",
   "language": "python",
   "name": "python3"
  },
  "language_info": {
   "codemirror_mode": {
    "name": "ipython",
    "version": 3
   },
   "file_extension": ".py",
   "mimetype": "text/x-python",
   "name": "python",
   "nbconvert_exporter": "python",
   "pygments_lexer": "ipython3",
   "version": "3.9.13"
  },
  "orig_nbformat": 4,
  "vscode": {
   "interpreter": {
    "hash": "5bbb498c3f7358422d5ba6b8670f41510f524a83cd6fe50ab474b3b499633174"
   }
  }
 },
 "nbformat": 4,
 "nbformat_minor": 2
}
